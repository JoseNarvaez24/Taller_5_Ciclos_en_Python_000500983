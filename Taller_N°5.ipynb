{
  "nbformat": 4,
  "nbformat_minor": 0,
  "metadata": {
    "colab": {
      "provenance": [],
      "authorship_tag": "ABX9TyMT4AP227B33+/0Og51Gd10",
      "include_colab_link": true
    },
    "kernelspec": {
      "name": "python3",
      "display_name": "Python 3"
    },
    "language_info": {
      "name": "python"
    }
  },
  "cells": [
    {
      "cell_type": "markdown",
      "metadata": {
        "id": "view-in-github",
        "colab_type": "text"
      },
      "source": [
        "<a href=\"https://colab.research.google.com/github/JoseNarvaez24/Taller_5_Ciclos_en_Python_000500983/blob/main/Taller_N%C2%B05.ipynb\" target=\"_parent\"><img src=\"https://colab.research.google.com/assets/colab-badge.svg\" alt=\"Open In Colab\"/></a>"
      ]
    },
    {
      "cell_type": "markdown",
      "source": [
        "#TALLER N°5\n",
        "# JOSE LUIS NARVAEZ ARRIETA\n",
        "# 000500983"
      ],
      "metadata": {
        "id": "KWUgvdURTJeg"
      }
    },
    {
      "cell_type": "markdown",
      "source": [
        "### 1.  Escribe un programa en Python que solicite al usuario un número entero positivo n y luego imprima los primeros n números naturales usando un ciclo while."
      ],
      "metadata": {
        "id": "GD9mpx8UTgPR"
      }
    },
    {
      "cell_type": "code",
      "execution_count": 2,
      "metadata": {
        "colab": {
          "base_uri": "https://localhost:8080/"
        },
        "id": "W_9ZDAkPTISP",
        "outputId": "c1896294-b6ee-499a-a59f-e5096465ab8f"
      },
      "outputs": [
        {
          "output_type": "stream",
          "name": "stdout",
          "text": [
            "Por favor, ingrese un número entero positivo n: 5\n",
            "1\n",
            "2\n",
            "3\n",
            "4\n",
            "5\n"
          ]
        }
      ],
      "source": [
        "n = int(input(\"Por favor, ingrese un número entero positivo n: \"))\n",
        "\n",
        "if n <= 0:\n",
        "    print(\"Por favor, ingrese un número entero positivo.\")\n",
        "else:\n",
        "    contador = 1\n",
        "\n",
        "    while contador <= n:\n",
        "        print(contador)\n",
        "        contador += 1\n"
      ]
    },
    {
      "cell_type": "markdown",
      "source": [
        "### 2.  Escribe un programa en Python que calcule la suma de todos los números pares del 1 al 100 utilizando un ciclo for."
      ],
      "metadata": {
        "id": "ZTBVJ8-KUxCF"
      }
    },
    {
      "cell_type": "code",
      "source": [
        "suma = 0\n",
        "\n",
        "for numero in range(1, 101):\n",
        "    if numero % 2 == 0:\n",
        "        suma += numero\n",
        "\n",
        "print(\"La suma de los números pares del 1 al 100 es:\", suma)\n"
      ],
      "metadata": {
        "colab": {
          "base_uri": "https://localhost:8080/"
        },
        "id": "zHYSDSG6U9q5",
        "outputId": "47f5a83f-5972-46a2-db49-795c415e1613"
      },
      "execution_count": 3,
      "outputs": [
        {
          "output_type": "stream",
          "name": "stdout",
          "text": [
            "La suma de los números pares del 1 al 100 es: 2550\n"
          ]
        }
      ]
    },
    {
      "cell_type": "markdown",
      "source": [
        "### 3. Escribe un programa en Python que imprima el siguiente patrón utilizando ciclos anidados: 1  1,2  1,2,3  1,2,3,4  1,2,3,4,5  Etc…."
      ],
      "metadata": {
        "id": "gdjpyUIVWcvE"
      }
    },
    {
      "cell_type": "code",
      "source": [
        "num_filas = int(input(\"Ingrese el número de filas para el patrón: \"))\n",
        "\n",
        "for i in range(1, num_filas + 1):\n",
        "    for j in range(1, i + 1):\n",
        "        print(j, end='')\n",
        "    print()"
      ],
      "metadata": {
        "colab": {
          "base_uri": "https://localhost:8080/"
        },
        "id": "6EVGr757WzUs",
        "outputId": "299a2926-3325-4932-a0e2-298e7bf59dba"
      },
      "execution_count": 4,
      "outputs": [
        {
          "output_type": "stream",
          "name": "stdout",
          "text": [
            "Ingrese el número de filas para el patrón: 7\n",
            "1\n",
            "12\n",
            "123\n",
            "1234\n",
            "12345\n",
            "123456\n",
            "1234567\n"
          ]
        }
      ]
    },
    {
      "cell_type": "markdown",
      "source": [
        "### 4. Escribe un programa en Python que solicite al usuario un número entero positivo y luego determine si ese número es primo o no utilizando un ciclo while."
      ],
      "metadata": {
        "id": "F80pxC3oXOu6"
      }
    },
    {
      "cell_type": "code",
      "source": [
        "n = int(input(\"Ingrese un número entero positivo: \"))\n",
        "\n",
        "if n <= 0:\n",
        "    print(\"Por favor, ingrese un número entero positivo.\")\n",
        "else:\n",
        "    contador = 0\n",
        "    divisor = 1\n",
        "\n",
        "    while divisor <= n:\n",
        "        if n % divisor == 0:\n",
        "            contador += 1\n",
        "        if contador > 2:\n",
        "            break\n",
        "        divisor += 1\n",
        "\n",
        "    if contador == 2:\n",
        "        print(n, \"es un número primo.\")\n",
        "    else:\n",
        "        print(n, \"no es un número primo.\")\n"
      ],
      "metadata": {
        "colab": {
          "base_uri": "https://localhost:8080/"
        },
        "id": "vko5BIfPXiSE",
        "outputId": "52e73d59-7fd3-4b09-cab3-50c89c330eca"
      },
      "execution_count": 5,
      "outputs": [
        {
          "output_type": "stream",
          "name": "stdout",
          "text": [
            "Ingrese un número entero positivo: 10\n",
            "10 no es un número primo.\n"
          ]
        }
      ]
    },
    {
      "cell_type": "markdown",
      "source": [
        "### 5. Escribe un programa en Python que incluya un ciclo while que no se detenga hasta que el usuario ingrese \"salir\" como entrada. Dentro del ciclo, permite al usuario realizar operaciones matemáticas simples como suma, resta, multiplicación o división."
      ],
      "metadata": {
        "id": "Ic2UNumMXzev"
      }
    },
    {
      "cell_type": "code",
      "source": [
        "while True:\n",
        "    entrada = input(\"Ingrese una operación (+, -, *, /) o 'salir' para terminar: \")\n",
        "\n",
        "    if entrada.lower() == \"salir\":\n",
        "        print(\"¡Hasta luego!\")\n",
        "        break  # Salir del ciclo\n",
        "\n",
        "    if entrada in ('+', '-', '*', '/'):\n",
        "        num1 = float(input(\"Ingrese el primer número: \"))\n",
        "        num2 = float(input(\"Ingrese el segundo número: \"))\n",
        "\n",
        "        if entrada == '+':\n",
        "            resultado = num1 + num2\n",
        "        elif entrada == '-':\n",
        "            resultado = num1 - num2\n",
        "        elif entrada == '*':\n",
        "            resultado = num1 * num2\n",
        "        elif entrada == '/':\n",
        "            if num2 == 0:\n",
        "                print(\"No se puede dividir por cero.\")\n",
        "                continue\n",
        "            resultado = num1 / num2\n",
        "\n",
        "        print(\"Resultado:\", resultado)\n",
        "    else:\n",
        "        print(\"Operación no válida. Por favor, ingrese una operación válida (+, -, *, /) o 'salir'.\")\n"
      ],
      "metadata": {
        "colab": {
          "base_uri": "https://localhost:8080/"
        },
        "id": "HEqMQEfjYHLl",
        "outputId": "ebd55320-a209-4c11-ac7b-c375c3ee76fa"
      },
      "execution_count": 7,
      "outputs": [
        {
          "output_type": "stream",
          "name": "stdout",
          "text": [
            "Ingrese una operación (+, -, *, /) o 'salir' para terminar: +\n",
            "Ingrese el primer número: 5\n",
            "Ingrese el segundo número: 5\n",
            "Resultado: 10.0\n",
            "Ingrese una operación (+, -, *, /) o 'salir' para terminar: -\n",
            "Ingrese el primer número: 5\n",
            "Ingrese el segundo número: 5\n",
            "Resultado: 0.0\n",
            "Ingrese una operación (+, -, *, /) o 'salir' para terminar: *\n",
            "Ingrese el primer número: 5\n",
            "Ingrese el segundo número: 5\n",
            "Resultado: 25.0\n",
            "Ingrese una operación (+, -, *, /) o 'salir' para terminar: /\n",
            "Ingrese el primer número: 5\n",
            "Ingrese el segundo número: 5\n",
            "Resultado: 1.0\n",
            "Ingrese una operación (+, -, *, /) o 'salir' para terminar: salir\n",
            "¡Hasta luego!\n"
          ]
        }
      ]
    },
    {
      "cell_type": "markdown",
      "source": [
        "### 6.  Escribe un programa en Python que imprima los números del 1 al número ingresado por el usuario, en orden descendente utilizando un ciclo for y la función range()."
      ],
      "metadata": {
        "id": "SWXK52Q_Yxgo"
      }
    },
    {
      "cell_type": "code",
      "source": [
        "numero = int(input(\"Ingrese un número entero: \"))\n",
        "\n",
        "if numero <= 0:\n",
        "    print(\"Por favor, ingrese un número entero positivo.\")\n",
        "else:\n",
        "    for i in range(numero, 0, -1):\n",
        "        print(i)"
      ],
      "metadata": {
        "colab": {
          "base_uri": "https://localhost:8080/"
        },
        "id": "fNXw3sM3Y__V",
        "outputId": "598b6e5d-a813-4519-8dce-0d9df162a01c"
      },
      "execution_count": 8,
      "outputs": [
        {
          "output_type": "stream",
          "name": "stdout",
          "text": [
            "Ingrese un número entero: 8\n",
            "8\n",
            "7\n",
            "6\n",
            "5\n",
            "4\n",
            "3\n",
            "2\n",
            "1\n"
          ]
        }
      ]
    },
    {
      "cell_type": "markdown",
      "source": [
        "### 7.  Escribe un programa en Python que imprima la secuencia de números de Fibonacci hasta un valor dado n utilizando un ciclo while."
      ],
      "metadata": {
        "id": "p8ehb_P2ZIQP"
      }
    },
    {
      "cell_type": "code",
      "source": [
        "n = int(input(\"Ingrese un valor máximo para la secuencia de Fibonacci: \"))\n",
        "\n",
        "a, b = 0, 1\n",
        "\n",
        "while a <= n:\n",
        "    print(a, end=' ')\n",
        "    a, b = b, a + b\n"
      ],
      "metadata": {
        "colab": {
          "base_uri": "https://localhost:8080/"
        },
        "id": "X9pvQrmeZaX3",
        "outputId": "50af9c7c-095a-4301-997a-7a4dd4d5d4af"
      },
      "execution_count": 10,
      "outputs": [
        {
          "output_type": "stream",
          "name": "stdout",
          "text": [
            "Ingrese un valor máximo para la secuencia de Fibonacci: 21\n",
            "0 1 1 2 3 5 8 13 21 "
          ]
        }
      ]
    },
    {
      "cell_type": "markdown",
      "source": [
        "### 8. Escribe un programa en Python que solicite al usuario un número entero positivo y luego calcule la suma de sus dígitos utilizando un ciclo while."
      ],
      "metadata": {
        "id": "AhxUvrHaZtJu"
      }
    },
    {
      "cell_type": "code",
      "source": [
        "numero = int(input(\"Ingrese un número entero positivo: \"))\n",
        "\n",
        "if numero <= 0:\n",
        "    print(\"Por favor, ingrese un número entero positivo.\")\n",
        "else:\n",
        "    suma_digitos = 0\n",
        "\n",
        "    while numero > 0:\n",
        "        digito = numero % 10\n",
        "        suma_digitos += digito\n",
        "        numero //= 10\n",
        "\n",
        "    print(\"La suma de los dígitos es:\", suma_digitos)\n"
      ],
      "metadata": {
        "colab": {
          "base_uri": "https://localhost:8080/"
        },
        "id": "QN_L4r0XZ9BB",
        "outputId": "7e42cffc-f455-4602-cff6-e1fb89367ece"
      },
      "execution_count": 12,
      "outputs": [
        {
          "output_type": "stream",
          "name": "stdout",
          "text": [
            "Ingrese un número entero positivo: 75\n",
            "La suma de los dígitos es: 12\n"
          ]
        }
      ]
    },
    {
      "cell_type": "code",
      "source": [],
      "metadata": {
        "id": "68iFboJKYiZ4"
      },
      "execution_count": null,
      "outputs": []
    }
  ]
}